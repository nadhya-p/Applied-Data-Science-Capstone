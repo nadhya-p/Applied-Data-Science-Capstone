{
 "cells": [
  {
   "cell_type": "markdown",
   "metadata": {},
   "source": [
    "#### Introduction"
   ]
  },
  {
   "cell_type": "markdown",
   "metadata": {},
   "source": [
    "In this case we have a client who is moving to Toronto and wants to open a bakery. Before our client moves, our client wants to know in what neighborhood they should open their bakery so they know in what neighborhood they should purchase their home. Our client wants to live close to there bakery, and also wants their bakery to get a decent amount of foot traffic so that the bakery will provide enough income to cover rent and other necessities. Our client does not want to have to compete with a large amount of competitors, but wants to live in a neighborhood that contains a sushi restaurant,  grocery store and a yoga studio. Our client also does not want to live too far away from the beach (less than 1 hour on public transportation), as our client loves to go swimming."
   ]
  },
  {
   "cell_type": "markdown",
   "metadata": {},
   "source": [
    "#### Data"
   ]
  },
  {
   "cell_type": "markdown",
   "metadata": {},
   "source": [
    "In this project we will be comparing different neighborhoods in the city of Toronto to see which neighborhoods contain which type of venues, and which neighborhood would be best for opening a bakery. To do this, we will segment the city of Toronto into its respective neighborhoods and we will then compare the venues in one neighborhood to the venues in the other neighborhoods. We will use the clustering technique to cluster similar neighborhoods together, making it easier to see which neighborhoods have a high volume of bakeries and which do not. After we have clustered the different neighborhoods together, we will search through the cluster of neighborhoods with the least amount of bakeries to see which neighborhood in that cluster would be the best location to open a bakery. We will also take into account what other venues are in the neighborhood, so that we can compare what kind of foot traffic we might be receiving depending and ensure our client settles in a neighborhood with all of the necessities they require. We have collected data that shows each neighborhood and it's most popular establishments, as well as the location of that neighborhood and it's similarity to the neighborhoods around it. This data will be used to ultimately pinpoint the best neighborhood to open the bakery."
   ]
  },
  {
   "cell_type": "markdown",
   "metadata": {},
   "source": [
    "###### Data Sources"
   ]
  },
  {
   "cell_type": "markdown",
   "metadata": {},
   "source": [
    "We have gathered data describing venue location and popularity from the foursquare API, and we have used Geo data to find the latitude and longitude of every Toronto neighborhood. Putting these two data sets together, we have created a data set of Toronto showing the distribution of different venues across different neighborhoods. The data and map together will be used to find the perfect location for our client to settle in."
   ]
  },
  {
   "cell_type": "markdown",
   "metadata": {},
   "source": [
    "###### Data Cleaning"
   ]
  },
  {
   "cell_type": "markdown",
   "metadata": {},
   "source": [
    "Data downloaded or scraped from the foursquare API and geo data were combined into one table. Any rows that did not contain an assigned borough were eliminated. For rows in which there was an assigned borough but no assigned neighborhood, we assigned the neighborhood to be the same as the borough. For ease, neighborhoods within the same postal code were combined into the same row of the table. "
   ]
  },
  {
   "cell_type": "markdown",
   "metadata": {},
   "source": [
    "#### Methodology"
   ]
  },
  {
   "cell_type": "markdown",
   "metadata": {},
   "source": [
    "For this data, we first clustered neighborhood based on venue similarity because our client wanted to live in an area that would have a lot of foot traffic. Based on our clustering, any neighborhoods that were not clustered with the most popular neighborhoods were automatically eliminated from consideration. After we found one cluster to focus on, we decided to look at the 10 most popular venues for each neighborhood and compare then. When doing this, we automatically eliminated any neighborhoods in which bakery was one of the ten most popular venues in the neighborhood. We then went on to look for the three items our client was looking for, and searched to see if any or all of these items were in the remaining neighborhoods. "
   ]
  },
  {
   "cell_type": "markdown",
   "metadata": {},
   "source": [
    "#### Results\n",
    "We found that 2 neighborhoods, Queens Park and Ontario Provincial Government both fit the critera our client was looking for. Neither of these neighborhoods had a bakery has a top 10 venue, and both of these neighborhoods contained a sushi restaurant, grocery store and yoga studio. Both of these neighborhoods are located in the borough of Downtown Toronto."
   ]
  },
  {
   "cell_type": "markdown",
   "metadata": {},
   "source": [
    "#### Discussion\n",
    "Although both Queens Park and Ontario Provincial Government fulfilled all the requirements, we noted that Queens Park was a more central location in downtown Toronto. Queens Park is closer to other popular neighborhoods such as The Annex and Harbord Village and is also located closer to the beach. Furthermore, Queens park contains multiple major hospital systems which means that there will be a lot of foot traffic in this area. Queens park is a central location between popular tourist neighborhoods and the academic and financial areas of Toronto, making it the perfect location to settle in. Because Queens Park is located more closely to the west end of Toronto we recommend that our client settles here. It is a vibrant area that will garner a lot of the foot traffic but it also does not other competing bakeries that our client would have to worry about. "
   ]
  },
  {
   "cell_type": "code",
   "execution_count": 8,
   "metadata": {},
   "outputs": [],
   "source": [
    "#### Conclusion\n",
    "We have concluded that it is in our client's best Interst to"
   ]
  },
  {
   "cell_type": "code",
   "execution_count": null,
   "metadata": {},
   "outputs": [],
   "source": []
  }
 ],
 "metadata": {
  "kernelspec": {
   "display_name": "Python",
   "language": "python",
   "name": "conda-env-python-py"
  },
  "language_info": {
   "codemirror_mode": {
    "name": "ipython",
    "version": 3
   },
   "file_extension": ".py",
   "mimetype": "text/x-python",
   "name": "python",
   "nbconvert_exporter": "python",
   "pygments_lexer": "ipython3",
   "version": "3.6.10"
  }
 },
 "nbformat": 4,
 "nbformat_minor": 4
}
